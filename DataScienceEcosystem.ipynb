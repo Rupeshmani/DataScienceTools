{
  "metadata": {
    "language_info": {
      "codemirror_mode": {
        "name": "python",
        "version": 3
      },
      "file_extension": ".py",
      "mimetype": "text/x-python",
      "name": "python",
      "nbconvert_exporter": "python",
      "pygments_lexer": "ipython3",
      "version": "3.8"
    },
    "kernelspec": {
      "name": "python",
      "display_name": "Python (Pyodide)",
      "language": "python"
    }
  },
  "nbformat_minor": 4,
  "nbformat": 4,
  "cells": [
    {
      "cell_type": "markdown",
      "source": "# Data Science and Ecosystem",
      "metadata": {}
    },
    {
      "cell_type": "markdown",
      "source": "In this notebook, Data Science Tools and Ecosystems are summarized",
      "metadata": {}
    },
    {
      "cell_type": "markdown",
      "source": "Some of the languages used in Data Science\n1. Python\n2. R\n3. Java",
      "metadata": {}
    },
    {
      "cell_type": "markdown",
      "source": "Some of the librarieeeees used in Data Science\n1. NumPy\n2. Pandas\n3. MatplotLib\n4. Keras\n5. TensorFlow\n6. SciPy",
      "metadata": {}
    },
    {
      "cell_type": "markdown",
      "source": "|Data Science Tools|\n|------------------|\n|Pandas|\n|NumPy|\n|Keras|",
      "metadata": {}
    },
    {
      "cell_type": "markdown",
      "source": "### Arithmetic Expressions Examples in Python",
      "metadata": {}
    },
    {
      "cell_type": "code",
      "source": "#Example for multiply and add numbers\n(5*6)+12",
      "metadata": {
        "trusted": true
      },
      "execution_count": 1,
      "outputs": [
        {
          "execution_count": 1,
          "output_type": "execute_result",
          "data": {
            "text/plain": "42"
          },
          "metadata": {}
        }
      ]
    },
    {
      "cell_type": "code",
      "source": "#Converting 200 minutes to hours\n200/60",
      "metadata": {
        "trusted": true
      },
      "execution_count": 2,
      "outputs": [
        {
          "execution_count": 2,
          "output_type": "execute_result",
          "data": {
            "text/plain": "3.3333333333333335"
          },
          "metadata": {}
        }
      ]
    },
    {
      "cell_type": "markdown",
      "source": "__Objective__\n* List popular languages for Data Science\n* List popular libraries for Data Science\n* List of Well known Data Science Tools\n* How to provide comments in the cell",
      "metadata": {}
    },
    {
      "cell_type": "markdown",
      "source": "## Author\nRupesh Sai Manikanta T",
      "metadata": {}
    }
  ]
}